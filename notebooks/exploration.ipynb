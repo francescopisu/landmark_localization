{
 "cells": [
  {
   "cell_type": "code",
   "execution_count": 28,
   "metadata": {},
   "outputs": [],
   "source": [
    "import numpy as np\n",
    "\n",
    "def extract_patch(image: np.ndarray, coords, cut_size: int = 9):\n",
    "    coord_x, coord_y, coord_z = coords\n",
    "    patch_size = cut_size * 2 + 1\n",
    "\n",
    "    # Define start and end indices for the patch\n",
    "    start_x, end_x = max(coord_x - cut_size, 0), min(coord_x + cut_size, image.shape[2] - 1)\n",
    "    start_y, end_y = max(coord_y - cut_size, 0), min(coord_y + cut_size, image.shape[1] - 1)\n",
    "    start_z, end_z = max(coord_z - cut_size, 0), min(coord_z + cut_size, image.shape[0] - 1)\n",
    "\n",
    "    # Initialize the patch with a fill value\n",
    "    fill_value = -50  # TODO: Adjust based on your data\n",
    "    patch = np.full((patch_size, patch_size, patch_size), fill_value, dtype=image.dtype)\n",
    "\n",
    "\n",
    "    # Extract the valid region and place it into the patch\n",
    "    patch[start_z - coord_z + cut_size:end_z - coord_z + cut_size + 1,\n",
    "          start_y - coord_y + cut_size:end_y - coord_y + cut_size + 1,\n",
    "          start_x - coord_x + cut_size:end_x - coord_x + cut_size + 1] = \\\n",
    "          image[start_z:end_z + 1, start_y:end_y + 1, start_x:end_x + 1]\n",
    "\n",
    "    return patch"
   ]
  },
  {
   "cell_type": "code",
   "execution_count": 29,
   "metadata": {},
   "outputs": [
    {
     "data": {
      "text/plain": [
       "(19, 19, 19)"
      ]
     },
     "execution_count": 29,
     "metadata": {},
     "output_type": "execute_result"
    }
   ],
   "source": [
    "arr = np.random.rand(512, 512, 400)\n",
    "extract_patch(arr, coords=(100, 100, 100), cut_size=9).shape"
   ]
  },
  {
   "cell_type": "code",
   "execution_count": null,
   "metadata": {},
   "outputs": [],
   "source": []
  },
  {
   "cell_type": "code",
   "execution_count": null,
   "metadata": {},
   "outputs": [],
   "source": []
  }
 ],
 "metadata": {
  "kernelspec": {
   "display_name": "vascular_conda",
   "language": "python",
   "name": "python3"
  },
  "language_info": {
   "codemirror_mode": {
    "name": "ipython",
    "version": 3
   },
   "file_extension": ".py",
   "mimetype": "text/x-python",
   "name": "python",
   "nbconvert_exporter": "python",
   "pygments_lexer": "ipython3",
   "version": "3.9.18"
  }
 },
 "nbformat": 4,
 "nbformat_minor": 2
}
