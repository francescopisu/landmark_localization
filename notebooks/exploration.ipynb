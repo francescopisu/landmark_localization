{
 "cells": [
  {
   "cell_type": "code",
   "execution_count": 2,
   "metadata": {},
   "outputs": [],
   "source": [
    "import os\n",
    "import sys\n",
    "from pathlib import Path\n",
    "sys.path.append(\"../\")"
   ]
  },
  {
   "cell_type": "code",
   "execution_count": 3,
   "metadata": {},
   "outputs": [],
   "source": [
    "import numpy as np\n",
    "\n",
    "def extract_patch(image: np.ndarray, coords, cut_size: int = 9):\n",
    "    coord_x, coord_y, coord_z = coords\n",
    "    patch_size = cut_size * 2 + 1\n",
    "\n",
    "    # Define start and end indices for the patch\n",
    "    start_x, end_x = max(coord_x - cut_size, 0), min(coord_x + cut_size, image.shape[2] - 1)\n",
    "    start_y, end_y = max(coord_y - cut_size, 0), min(coord_y + cut_size, image.shape[1] - 1)\n",
    "    start_z, end_z = max(coord_z - cut_size, 0), min(coord_z + cut_size, image.shape[0] - 1)\n",
    "\n",
    "    # Initialize the patch with a fill value\n",
    "    fill_value = -50  # TODO: Adjust based on your data\n",
    "    patch = np.full((patch_size, patch_size, patch_size), fill_value, dtype=image.dtype)\n",
    "\n",
    "\n",
    "    # Extract the valid region and place it into the patch\n",
    "    patch[start_z - coord_z + cut_size:end_z - coord_z + cut_size + 1,\n",
    "          start_y - coord_y + cut_size:end_y - coord_y + cut_size + 1,\n",
    "          start_x - coord_x + cut_size:end_x - coord_x + cut_size + 1] = \\\n",
    "          image[start_z:end_z + 1, start_y:end_y + 1, start_x:end_x + 1]\n",
    "\n",
    "    return patch"
   ]
  },
  {
   "cell_type": "code",
   "execution_count": 4,
   "metadata": {},
   "outputs": [
    {
     "data": {
      "text/plain": [
       "(19, 19, 19)"
      ]
     },
     "execution_count": 4,
     "metadata": {},
     "output_type": "execute_result"
    }
   ],
   "source": [
    "arr = np.random.rand(512, 512, 400)\n",
    "extract_patch(arr, coords=(100, 100, 100), cut_size=9).shape"
   ]
  },
  {
   "cell_type": "code",
   "execution_count": 5,
   "metadata": {},
   "outputs": [],
   "source": [
    "import numpy as np\n",
    "import cv2\n",
    "from skimage import measure\n",
    "\n",
    "def crop_heart(input_arr):\n",
    "    \"\"\"\n",
    "    Improved function to segment the heart region using thresholding and morphological operations.\n",
    "    :param input_arr: 3D array representing the CCTA scan.\n",
    "    :return: Cropped heart data and bounding box coordinates.\n",
    "    \"\"\"\n",
    "    print(f\"Shape of input array is: {input_arr.shape}\")\n",
    "\n",
    "    src_array = input_arr.astype(np.float32)\n",
    "    z, w, h = src_array.shape\n",
    "    new_arr = np.full_like(src_array, -1000)  # Use np.full_like for efficiency\n",
    "\n",
    "    # Initialize variables for calculating mean bounding box\n",
    "    #sum_minr, sum_minc, sum_maxr, sum_maxc = 0, 0, 0, 0\n",
    "    minrs, mincs, maxrs, maxcs = [], [], [], []\n",
    "\n",
    "    kernel = cv2.getStructuringElement(cv2.MORPH_ELLIPSE, (7, 7))\n",
    "\n",
    "    for k in range(z):\n",
    "        image = src_array[k]\n",
    "        ret, thresh = cv2.threshold(image, 20, 650, cv2.THRESH_BINARY)\n",
    "        opening = cv2.morphologyEx(thresh, cv2.MORPH_OPEN, kernel, iterations=4)\n",
    "\n",
    "        label_opening = measure.label(opening)\n",
    "        regionprops = measure.regionprops(label_opening)\n",
    "\n",
    "        if regionprops:\n",
    "            # Find the largest region, assuming it's the heart\n",
    "            largest_region = max(regionprops, key=lambda x: x.area)\n",
    "            minr, minc, maxr, maxc = largest_region.bbox\n",
    "\n",
    "            # Update the new array and bounding box sums\n",
    "            new_arr[k, minr:maxr, minc:maxc] = src_array[k, minr:maxr, minc:maxc]\n",
    "            # sum_minr += minr\n",
    "            # sum_minc += minc\n",
    "            # sum_maxr += maxr\n",
    "            # sum_maxc += maxc\n",
    "            minrs.append(minr)\n",
    "            mincs.append(minc)\n",
    "            maxrs.append(maxr)\n",
    "            maxcs.append(maxc)\n",
    "\n",
    "    # Calculate mean bounding box coordinates\n",
    "    # mean_minr = sum_minr // z\n",
    "    # mean_minc = sum_minc // z\n",
    "    # mean_maxr = sum_maxr // z\n",
    "    # mean_maxc = sum_maxc // z\n",
    "\n",
    "    # Calculate the index for the upper third\n",
    "    upper_third_index = new_arr.shape[0] // 3\n",
    "    upper_third_index = int(upper_third_index - (upper_third_index*0.15))\n",
    "\n",
    "    # Extract the upper third of the CCTA scan\n",
    "    upper_third_new_arr = new_arr[upper_third_index*2:]\n",
    "    \n",
    "    # discard measures associated to slices in z axis we just discarded\n",
    "    \n",
    "    \n",
    "    min_minr = np.array(minrs)[upper_third_index*2:].min()\n",
    "    min_minc = np.array(mincs)[upper_third_index*2:].min()\n",
    "    max_maxr = np.array(maxrs)[upper_third_index*2:].max()\n",
    "    max_maxc = np.array(maxcs)[upper_third_index*2:].max()\n",
    "    minz = upper_third_index\n",
    "    maxz = new_arr.shape[0]\n",
    "    \n",
    "    return upper_third_new_arr, min_minc, min_minr, max_maxc, max_maxr, minz, maxz"
   ]
  },
  {
   "cell_type": "code",
   "execution_count": 121,
   "metadata": {},
   "outputs": [],
   "source": [
    "from landmark_localization.utils.misc import get_all_hsr_file_paths"
   ]
  },
  {
   "cell_type": "code",
   "execution_count": 6,
   "metadata": {},
   "outputs": [],
   "source": [
    "data_path = Path(\"/Users/francescopisu/Workspace/Research/Projects/CoroCTAiomics/notebooks/data/10000AD9.nii.gz\")"
   ]
  },
  {
   "cell_type": "code",
   "execution_count": 7,
   "metadata": {},
   "outputs": [],
   "source": [
    "import SimpleITK as sitk"
   ]
  },
  {
   "cell_type": "code",
   "execution_count": 8,
   "metadata": {},
   "outputs": [],
   "source": [
    "image_sitk = sitk.ReadImage(data_path.as_posix())\n",
    "origin = image_sitk.GetOrigin()\n",
    "spacing = image_sitk.GetSpacing()\n",
    "direction = image_sitk.GetDirection()\n",
    "image_arr = sitk.GetArrayFromImage(image=image_sitk)"
   ]
  },
  {
   "cell_type": "code",
   "execution_count": 9,
   "metadata": {},
   "outputs": [
    {
     "name": "stdout",
     "output_type": "stream",
     "text": [
      "Shape of input array is: (283, 512, 512)\n"
     ]
    }
   ],
   "source": [
    "import matplotlib.pyplot as plt\n",
    "\n",
    "crop, minc, minr, maxc, maxr, minz, maxz = crop_heart(image_arr)"
   ]
  },
  {
   "cell_type": "code",
   "execution_count": 10,
   "metadata": {},
   "outputs": [
    {
     "data": {
      "text/plain": [
       "(18, 38, 349, 403, 79, 283)"
      ]
     },
     "execution_count": 10,
     "metadata": {},
     "output_type": "execute_result"
    }
   ],
   "source": [
    "minc, minr, maxc, maxr, minz, maxz"
   ]
  },
  {
   "cell_type": "code",
   "execution_count": 130,
   "metadata": {},
   "outputs": [],
   "source": [
    "crop_sitk = sitk.GetImageFromArray(crop)\n",
    "crop_sitk.SetOrigin(origin)\n",
    "crop_sitk.SetSpacing(spacing)\n",
    "crop_sitk.SetDirection(direction)\n",
    "sitk.WriteImage(crop_sitk, \"../results/10000AD9/crop.nii.gz\")"
   ]
  },
  {
   "cell_type": "code",
   "execution_count": 139,
   "metadata": {},
   "outputs": [],
   "source": [
    "# crop using the min and max row and columns indices\n",
    "crop2 = image_arr[minz:maxz+1, \n",
    "                  minr:maxr+1,\n",
    "                  minc:maxc+1]\n",
    "\n",
    "crop2_sitk = sitk.GetImageFromArray(crop2)\n",
    "crop2_sitk.SetOrigin(origin)\n",
    "crop2_sitk.SetSpacing(spacing)\n",
    "crop2_sitk.SetDirection(direction)\n",
    "sitk.WriteImage(crop2_sitk, \"../results/10000AD9/crop2.nii.gz\")"
   ]
  },
  {
   "cell_type": "code",
   "execution_count": null,
   "metadata": {},
   "outputs": [],
   "source": []
  }
 ],
 "metadata": {
  "kernelspec": {
   "display_name": "vascular_conda",
   "language": "python",
   "name": "python3"
  },
  "language_info": {
   "codemirror_mode": {
    "name": "ipython",
    "version": 3
   },
   "file_extension": ".py",
   "mimetype": "text/x-python",
   "name": "python",
   "nbconvert_exporter": "python",
   "pygments_lexer": "ipython3",
   "version": "3.9.18"
  }
 },
 "nbformat": 4,
 "nbformat_minor": 2
}
